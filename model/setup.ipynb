{
 "cells": [
  {
   "cell_type": "code",
   "execution_count": 1,
   "metadata": {},
   "outputs": [],
   "source": [
    "DATASET_URL      = \"https://thor.robots.ox.ac.uk/datasets/flowers-102/102flowers.tgz\"\n",
    "DATASET_PATH     = \"../dataset\"\n",
    "DATABASE_PATH    = \"../database/flower.db.sqlite\"\n",
    "SAVED_MODEL_PATH = \"./saved\"\n"
   ]
  },
  {
   "cell_type": "code",
   "execution_count": 2,
   "metadata": {},
   "outputs": [
    {
     "name": "stderr",
     "output_type": "stream",
     "text": [
      "c:\\Users\\Era\\AppData\\Local\\Programs\\Python\\Python312\\Lib\\site-packages\\tqdm\\auto.py:21: TqdmWarning: IProgress not found. Please update jupyter and ipywidgets. See https://ipywidgets.readthedocs.io/en/stable/user_install.html\n",
      "  from .autonotebook import tqdm as notebook_tqdm\n"
     ]
    },
    {
     "name": "stdout",
     "output_type": "stream",
     "text": [
      "WARNING:tensorflow:From c:\\Users\\Era\\AppData\\Local\\Programs\\Python\\Python312\\Lib\\site-packages\\tf_keras\\src\\losses.py:2976: The name tf.losses.sparse_softmax_cross_entropy is deprecated. Please use tf.compat.v1.losses.sparse_softmax_cross_entropy instead.\n",
      "\n"
     ]
    }
   ],
   "source": [
    "# Huggingface trained model: https://huggingface.co/dima806/oxford_flowers_image_detection\n",
    "# Use a pipeline as a high-level helper\n",
    "from transformers import pipeline\n",
    "\n",
    "pipe = pipeline(\"image-classification\", model=\"dima806/oxford_flowers_image_detection\")\n",
    "\n",
    "# Load model directly from internet\n",
    "from transformers import AutoModelForImageClassification\n",
    "model = AutoModelForImageClassification.from_pretrained(\"dima806/oxford_flowers_image_detection\")\n"
   ]
  },
  {
   "cell_type": "code",
   "execution_count": 4,
   "metadata": {},
   "outputs": [],
   "source": [
    "# Download datasets from: https://www.robots.ox.ac.uk/%7Evgg/data/flowers/102/\n",
    "# import os\n",
    "# import requests\n",
    "import tarfile\n",
    "import urllib.request\n",
    "import tarfile\n",
    "\n",
    "\n",
    "ftpstream = urllib.request.urlopen(DATASET_URL)\n",
    "thetarfile = tarfile.open(fileobj=ftpstream, mode=\"r|gz\")\n",
    "thetarfile.extractall(DATASET_PATH)\n",
    "\n",
    "# download_and_extract(DATASET_URL, DATASET_PATH)"
   ]
  },
  {
   "cell_type": "code",
   "execution_count": null,
   "metadata": {},
   "outputs": [],
   "source": [
    "# Show all label of this model\n",
    "print(model.config.id2label)"
   ]
  },
  {
   "cell_type": "code",
   "execution_count": null,
   "metadata": {},
   "outputs": [],
   "source": [
    "# Predict/ Extract feature from the whole datasets\n",
    "\n",
    "from PIL import Image\n",
    "from pathlib import Path\n",
    "\n",
    "data     = {}\n",
    "pathlist = Path(DATASET_PATH).glob('*.jpg')\n",
    "\n",
    "for path in pathlist:\n",
    "    path_str = str(path)\n",
    "    data_it = pipe(Image.open(path_str))\n",
    "    data[path_str] = data_it"
   ]
  },
  {
   "cell_type": "code",
   "execution_count": null,
   "metadata": {},
   "outputs": [],
   "source": [
    "# Setup DB\n",
    "import sqlite3\n",
    "\n",
    "# conn = sqlite3.connect(':memory:')\n",
    "conn = sqlite3.connect('../database/flower.db.sqlite')\n",
    "c = conn.cursor()\n",
    "\n",
    "# Create table\n",
    "c.execute('''CREATE TABLE IF NOT EXISTS flower_img(pid INTEGER PRIMARY KEY AUTOINCREMENT, filename TEXT)''')\n",
    "c.execute('''CREATE VIRTUAL TABLE IF NOT EXISTS flowers_vector USING fts5(pid, tokens)''')"
   ]
  },
  {
   "cell_type": "code",
   "execution_count": null,
   "metadata": {},
   "outputs": [],
   "source": [
    "# Process predict data and save to DB\n",
    "import os\n",
    "\n",
    "def process_label(in_label: str):\n",
    "    return in_label.replace(\"flower\", \"\").strip()\n",
    "\n",
    "def save_img_to_db(filename, predicts):\n",
    "    c.execute(\"INSERT INTO flower_img(filename) VALUES (?)\", [filename])\n",
    "    conn.commit()\n",
    "\n",
    "    for predict in predicts:\n",
    "        if predict[\"score\"] < 0.1:\n",
    "            continue\n",
    "        c.execute(\"INSERT INTO flowers_vector(pid, tokens, rank) VALUES (?, ?, ?)\",\n",
    "                  [c.lastrowid, process_label(predict[\"label\"]), predict[\"score\"]])\n",
    "        conn.commit()\n",
    "\n",
    "for path in data:\n",
    "    filename = os.path.split(path)[1]\n",
    "    save_img_to_db(filename, data[path])"
   ]
  },
  {
   "cell_type": "code",
   "execution_count": null,
   "metadata": {},
   "outputs": [],
   "source": [
    "# Close database\n",
    "conn.close()"
   ]
  },
  {
   "cell_type": "code",
   "execution_count": null,
   "metadata": {},
   "outputs": [],
   "source": [
    "# Save pipeline\n",
    "pipe.save_pretrained(SAVED_MODEL_PATH)"
   ]
  }
 ],
 "metadata": {
  "kernelspec": {
   "display_name": "Python 3",
   "language": "python",
   "name": "python3"
  },
  "language_info": {
   "codemirror_mode": {
    "name": "ipython",
    "version": 3
   },
   "file_extension": ".py",
   "mimetype": "text/x-python",
   "name": "python",
   "nbconvert_exporter": "python",
   "pygments_lexer": "ipython3",
   "version": "3.12.2"
  }
 },
 "nbformat": 4,
 "nbformat_minor": 2
}
