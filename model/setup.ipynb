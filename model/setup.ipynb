{
 "cells": [
  {
   "cell_type": "code",
   "execution_count": 13,
   "metadata": {},
   "outputs": [],
   "source": [
    "DATASET_URL      = \"https://thor.robots.ox.ac.uk/datasets/flowers-102/102flowers.tgz\"\n",
    "DATASET_PATH     = \"../dataset\"\n",
    "DATABASE_PATH    = \"../database/flower.db.sqlite\"\n",
    "SAVED_MODEL_PATH = \"./saved\"\n"
   ]
  },
  {
   "cell_type": "code",
   "execution_count": 2,
   "metadata": {},
   "outputs": [
    {
     "name": "stderr",
     "output_type": "stream",
     "text": [
      "c:\\Users\\Era\\AppData\\Local\\Programs\\Python\\Python312\\Lib\\site-packages\\tqdm\\auto.py:21: TqdmWarning: IProgress not found. Please update jupyter and ipywidgets. See https://ipywidgets.readthedocs.io/en/stable/user_install.html\n",
      "  from .autonotebook import tqdm as notebook_tqdm\n"
     ]
    },
    {
     "name": "stdout",
     "output_type": "stream",
     "text": [
      "WARNING:tensorflow:From c:\\Users\\Era\\AppData\\Local\\Programs\\Python\\Python312\\Lib\\site-packages\\tf_keras\\src\\losses.py:2976: The name tf.losses.sparse_softmax_cross_entropy is deprecated. Please use tf.compat.v1.losses.sparse_softmax_cross_entropy instead.\n",
      "\n"
     ]
    }
   ],
   "source": [
    "# Huggingface trained model: https://huggingface.co/dima806/oxford_flowers_image_detection\n",
    "# Use a pipeline as a high-level helper\n",
    "from transformers import pipeline\n",
    "\n",
    "pipe = pipeline(\"image-classification\", model=\"dima806/oxford_flowers_image_detection\")\n",
    "\n",
    "# Load model directly from internet\n",
    "from transformers import AutoModelForImageClassification\n",
    "model = AutoModelForImageClassification.from_pretrained(\"dima806/oxford_flowers_image_detection\")\n"
   ]
  },
  {
   "cell_type": "code",
   "execution_count": 10,
   "metadata": {},
   "outputs": [],
   "source": [
    "# Download & extract dataset. From: https://www.tensorflow.org/datasets/catalog/oxford_flowers102\n",
    "import urllib.request\n",
    "import tarfile\n",
    "import os\n",
    "\n",
    "__save_path = os.path.join(DATASET_PATH, \"102flowers.tgz\")\n",
    "urllib.request.urlretrieve(DATASET_URL, __save_path)\n",
    "\n",
    "file = tarfile.open(__save_path, mode=\"r|gz\")\n",
    "file.extractall(DATASET_PATH)\n",
    "file.close()"
   ]
  },
  {
   "cell_type": "code",
   "execution_count": 11,
   "metadata": {},
   "outputs": [
    {
     "name": "stdout",
     "output_type": "stream",
     "text": [
      "{0: 'bolero deep blue', 1: 'toad lily', 2: 'bougainvillea', 3: 'blanket flower', 4: 'prince of wales feathers', 5: 'english marigold', 6: 'common dandelion', 7: 'mallow', 8: 'barbeton daisy', 9: 'desert-rose', 10: 'anthurium', 11: 'cyclamen', 12: 'marigold', 13: 'spring crocus', 14: 'petunia', 15: 'foxglove', 16: 'primula', 17: 'cape flower', 18: \"colt's foot\", 19: 'osteospermum', 20: 'buttercup', 21: 'balloon flower', 22: 'fire lily', 23: 'bromelia', 24: 'artichoke', 25: 'daffodil', 26: 'pink-yellow dahlia', 27: 'geranium', 28: 'peruvian lily', 29: 'king protea', 30: 'silverbush', 31: 'alpine sea holly', 32: 'hibiscus', 33: 'giant white arum lily', 34: 'canna lily', 35: 'sunflower', 36: 'sweet pea', 37: 'mexican aster', 38: 'californian poppy', 39: 'pincushion flower', 40: 'black-eyed susan', 41: 'blackberry lily', 42: 'gaura', 43: 'love in the mist', 44: 'spear thistle', 45: 'orange dahlia', 46: 'wallflower', 47: 'tiger lily', 48: 'stemless gentian', 49: 'morning glory', 50: 'frangipani', 51: 'lotus lotus', 52: 'red ginger', 53: 'oxeye daisy', 54: 'windflower', 55: 'monkshood', 56: 'bishop of llandaff', 57: 'globe-flower', 58: 'globe thistle', 59: 'poinsettia', 60: 'wild pansy', 61: 'water lily', 62: 'watercress', 63: 'mexican petunia', 64: 'corn poppy', 65: 'bearded iris', 66: 'azalea', 67: 'camellia', 68: 'tree poppy', 69: 'moon orchid', 70: 'magnolia', 71: 'bee balm', 72: 'lenten rose', 73: 'trumpet creeper', 74: 'passion flower', 75: 'yellow iris', 76: 'pelargonium', 77: 'tree mallow', 78: 'thorn apple', 79: 'garden phlox', 80: 'sword lily', 81: 'carnation', 82: 'ruby-lipped cattleya', 83: 'ball moss', 84: 'columbine', 85: 'siam tulip', 86: 'snapdragon', 87: 'cautleya spicata', 88: 'hard-leaved pocket orchid', 89: 'pink primrose', 90: 'gazania', 91: 'hippeastrum', 92: 'fritillary', 93: 'canterbury bells', 94: 'great masterwort', 95: 'sweet william', 96: 'clematis', 97: 'purple coneflower', 98: 'japanese anemone', 99: 'bird of paradise', 100: 'rose', 101: 'grape hyacinth'}\n"
     ]
    }
   ],
   "source": [
    "# Show all label of this model\n",
    "print(model.config.id2label)"
   ]
  },
  {
   "cell_type": "code",
   "execution_count": 14,
   "metadata": {},
   "outputs": [],
   "source": [
    "# Predict/ Extract feature from the whole datasets\n",
    "from PIL import Image\n",
    "from pathlib import Path\n",
    "\n",
    "data     = {}\n",
    "pathlist = Path(DATASET_PATH).glob('**/*.jpg')\n",
    "\n",
    "for path in pathlist:\n",
    "    path_str = str(path)\n",
    "    data_it = pipe(Image.open(path_str))\n",
    "    data[path_str] = data_it"
   ]
  },
  {
   "cell_type": "code",
   "execution_count": 24,
   "metadata": {},
   "outputs": [
    {
     "data": {
      "text/plain": [
       "<sqlite3.Cursor at 0x6ae39340>"
      ]
     },
     "execution_count": 24,
     "metadata": {},
     "output_type": "execute_result"
    }
   ],
   "source": [
    "# Setup DB\n",
    "import sqlite3\n",
    "import os\n",
    "\n",
    "db_dir = os.path.split(DATABASE_PATH)[0]\n",
    "if not os.path.exists(db_dir):\n",
    "    os.mkdir(db_dir)\n",
    "\n",
    "# conn = sqlite3.connect(':memory:')\n",
    "conn = sqlite3.connect(DATABASE_PATH)\n",
    "c = conn.cursor()\n",
    "\n",
    "# Create table\n",
    "c.execute('''CREATE TABLE IF NOT EXISTS flowers_img(pid INTEGER PRIMARY KEY AUTOINCREMENT, filename TEXT)''')\n",
    "c.execute('''CREATE VIRTUAL TABLE IF NOT EXISTS flowers_vector USING fts4(pid, tokens, score)''')"
   ]
  },
  {
   "cell_type": "code",
   "execution_count": 25,
   "metadata": {},
   "outputs": [],
   "source": [
    "# Process predict data and save to DB\n",
    "import os\n",
    "\n",
    "def process_label(in_label: str):\n",
    "    return in_label.replace(\"flower\", \"\").strip()\n",
    "\n",
    "def save_img_to_db(filename, predicts):\n",
    "    c.execute(\"INSERT INTO flowers_img(filename) VALUES (?)\", [filename])\n",
    "    conn.commit()\n",
    "\n",
    "    for predict in predicts:\n",
    "        if predict[\"score\"] < 0.1:\n",
    "            continue\n",
    "        c.execute(\"INSERT INTO flowers_vector(pid, tokens, score) VALUES (?, ?, ?)\",\n",
    "                  [c.lastrowid, process_label(predict[\"label\"]), predict[\"score\"]])\n",
    "        conn.commit()\n",
    "\n",
    "for path in data:\n",
    "    filename = os.path.split(path)[1]\n",
    "    save_img_to_db(filename, data[path])"
   ]
  },
  {
   "cell_type": "code",
   "execution_count": 26,
   "metadata": {},
   "outputs": [],
   "source": [
    "# Close database\n",
    "conn.close()"
   ]
  },
  {
   "cell_type": "code",
   "execution_count": 22,
   "metadata": {},
   "outputs": [],
   "source": [
    "# Save pipeline\n",
    "pipe.save_pretrained(SAVED_MODEL_PATH)\n"
   ]
  }
 ],
 "metadata": {
  "kernelspec": {
   "display_name": "Python 3",
   "language": "python",
   "name": "python3"
  },
  "language_info": {
   "codemirror_mode": {
    "name": "ipython",
    "version": 3
   },
   "file_extension": ".py",
   "mimetype": "text/x-python",
   "name": "python",
   "nbconvert_exporter": "python",
   "pygments_lexer": "ipython3",
   "version": "3.12.2"
  }
 },
 "nbformat": 4,
 "nbformat_minor": 2
}
